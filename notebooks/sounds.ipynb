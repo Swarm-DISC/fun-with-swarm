{
 "cells": [
  {
   "cell_type": "markdown",
   "id": "bfc64b37-9f6b-44f1-ae59-691e7fe2af1c",
   "metadata": {},
   "source": [
    "# Sounds from Swarm"
   ]
  },
  {
   "cell_type": "markdown",
   "id": "873422f4-b37a-404f-99ba-8644afe4f0e5",
   "metadata": {},
   "source": [
    "References:\n",
    "\n",
    "- https://panel.holoviz.org/reference/panes/Audio.html\n",
    "- https://docs.scipy.org/doc/scipy/reference/generated/scipy.signal.cwt.html"
   ]
  },
  {
   "cell_type": "code",
   "execution_count": null,
   "id": "e9a1274e-ea59-4c17-9c90-fb3bc28dff22",
   "metadata": {},
   "outputs": [],
   "source": [
    "import datetime as dt\n",
    "import numpy as np\n",
    "from scipy import signal\n",
    "import matplotlib.pyplot as plt\n",
    "from hapiclient import hapi\n",
    "import panel as pn\n",
    "\n",
    "pn.extension()"
   ]
  },
  {
   "cell_type": "markdown",
   "id": "d1612361-6c4d-4ebf-b7aa-214cd0e1b7f7",
   "metadata": {},
   "source": [
    "## Demo of a sound pane"
   ]
  },
  {
   "cell_type": "code",
   "execution_count": null,
   "id": "bb054e5d-6865-47da-9f39-9f961f6236d1",
   "metadata": {},
   "outputs": [],
   "source": [
    "# \n",
    "audio = pn.pane.Audio('http://ccrma.stanford.edu/~jos/mp3/pno-cs.mp3')\n",
    "audio.servable(title=\"Sounds from Swarm\")"
   ]
  },
  {
   "cell_type": "markdown",
   "id": "85b617f5-21a5-4e20-97f6-27ec7c9455b5",
   "metadata": {},
   "source": [
    "## Fetching data from Swarm via VirES-HAPI"
   ]
  },
  {
   "cell_type": "code",
   "execution_count": null,
   "id": "e3001890-35cc-4f8c-a073-2cf643819858",
   "metadata": {},
   "outputs": [],
   "source": [
    "t0 = dt.datetime(2022, 1, 1, 0, 0, 0)\n",
    "t1 = t0 + dt.timedelta(minutes=1)"
   ]
  },
  {
   "cell_type": "code",
   "execution_count": null,
   "id": "ddee6d01-7dd6-4856-8501-e9e134072d7b",
   "metadata": {},
   "outputs": [],
   "source": [
    "data, meta = hapi(\n",
    "    \"https://testing.vires.services/hapi/\",\n",
    "    \"SW_OPER_MAGA_HR_1B\",\n",
    "    \"Latitude,Longitude,Radius,B_NEC\",\n",
    "    t0.isoformat(),\n",
    "    t1.isoformat(),\n",
    ")"
   ]
  },
  {
   "cell_type": "code",
   "execution_count": null,
   "id": "bf3d35ce-27f1-49c5-857b-29ce79b43919",
   "metadata": {},
   "outputs": [],
   "source": [
    "data"
   ]
  },
  {
   "cell_type": "markdown",
   "id": "4eb29582-e777-43e5-9a76-452e255284fd",
   "metadata": {},
   "source": [
    "## Now what to do with this data to turn it into sound?"
   ]
  }
 ],
 "metadata": {
  "kernelspec": {
   "display_name": "Python 3 (ipykernel)",
   "language": "python",
   "name": "python3"
  },
  "language_info": {
   "codemirror_mode": {
    "name": "ipython",
    "version": 3
   },
   "file_extension": ".py",
   "mimetype": "text/x-python",
   "name": "python",
   "nbconvert_exporter": "python",
   "pygments_lexer": "ipython3",
   "version": "3.10.2"
  }
 },
 "nbformat": 4,
 "nbformat_minor": 5
}
